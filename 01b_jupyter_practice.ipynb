{
 "cells": [
  {
   "cell_type": "markdown",
   "metadata": {},
   "source": [
    "# Practice in Jupyter"
   ]
  },
  {
   "cell_type": "markdown",
   "metadata": {},
   "source": [
    "## <a name = \"section-0\"></a>Table of Contents "
   ]
  },
  {
   "cell_type": "markdown",
   "metadata": {},
   "source": [
    "[Markdown](#section-1)  \n",
    "[Linking within Notebooks](#section-2)  \n",
    "[Bolding and Italics](#section-3)  \n",
    "[Line Separators](#section-4)  \n",
    "[Code Blocks](#section-5)  \n",
    "[Line Breaks](#section-6)  \n",
    "[Emoji](#section-7)  \n",
    "[Tables in Markdown](#section-8)  \n",
    "[Coding](#section-9)  "
   ]
  },
  {
   "cell_type": "markdown",
   "metadata": {},
   "source": [
    "## <a name=\"section-1\"></a>Markdown"
   ]
  },
  {
   "cell_type": "markdown",
   "metadata": {},
   "source": [
    "***\n",
    "### <a name=\"section-2\"></a> Linking within Notebooks"
   ]
  },
  {
   "cell_type": "markdown",
   "metadata": {},
   "source": [
    "We can link to sections within the notebook using the below text.  \n",
    "  \n",
    "```[Section 1](#section-x)```  \n",
    "  \n",
    "[Section 1](#section-x)  \n",
    "\n",
    "External links use the same format, just with the full URL in the parentheses  \n",
    "  \n",
    "[Back to Table of Contents](#section-0) "
   ]
  },
  {
   "cell_type": "markdown",
   "metadata": {},
   "source": [
    "###### <a name=\"section-x\"></a>1) Link example"
   ]
  },
  {
   "cell_type": "markdown",
   "metadata": {},
   "source": [
    "***\n",
    "### <a name=\"section-3\"></a> Bolding and Italics "
   ]
  },
  {
   "cell_type": "markdown",
   "metadata": {},
   "source": [
    "Here, trying out formatting such as **bolding** or _italics_.  \n",
    "  \n",
    "[Back to Table of Contents](#section-0) "
   ]
  },
  {
   "cell_type": "markdown",
   "metadata": {},
   "source": [
    "***\n",
    "### <a name=\"section-4\"></a>Line Separators"
   ]
  },
  {
   "cell_type": "markdown",
   "metadata": {},
   "source": [
    "***\n",
    "Line separators are pretty sweet too.  \n",
    "  \n",
    "[Back to Table of Contents](#section-0) "
   ]
  },
  {
   "cell_type": "markdown",
   "metadata": {},
   "source": [
    "***\n",
    "### <a name=\"section-5\"></a>Code Blocks "
   ]
  },
  {
   "cell_type": "markdown",
   "metadata": {},
   "source": [
    "For non-specific code blocks in gray box, use triple quotes in-line:    \n",
    "\n",
    "```print (\"Hello World!\")```  \n",
    "\n",
    "For indented general code, use triple quotes above and below: \n",
    "```\n",
    "print(\"Hello World!)\n",
    "```"
   ]
  },
  {
   "cell_type": "markdown",
   "metadata": {},
   "source": [
    "Block code that is non-specific:  \n",
    "```\n",
    "SELECT * FROM Customers WHERE Country='Sweden';\n",
    "```"
   ]
  },
  {
   "cell_type": "markdown",
   "metadata": {},
   "source": [
    "Block code that is **sql**-specific:  \n",
    "```sql\n",
    "SELECT * FROM Customers WHERE Country='Sweden';\n",
    "```"
   ]
  },
  {
   "cell_type": "markdown",
   "metadata": {},
   "source": [
    "Language specific formatting is really nice (like for python below):  \n",
    "```python\n",
    "import matplotlib\n",
    "```  \n",
    "  \n",
    "[Back to Table of Contents](#section-0) "
   ]
  },
  {
   "cell_type": "markdown",
   "metadata": {},
   "source": [
    "***\n",
    "### <a name=\"section-6\"></a>Line Breaks "
   ]
  },
  {
   "cell_type": "markdown",
   "metadata": {},
   "source": [
    "I didn't know about the line break (adding two spaces at the end of a line and then hitting return).  \n",
    "That's really helpful!  \n",
    "  \n",
    "[Back to Table of Contents](#section-0) "
   ]
  },
  {
   "cell_type": "markdown",
   "metadata": {},
   "source": [
    "***\n",
    "### <a name=\"section-7\"></a> Emoji"
   ]
  },
  {
   "cell_type": "markdown",
   "metadata": {},
   "source": [
    "Unfortunately, emojis like :watermelon: aren't currently supported in Jupyter =(  \n",
    "  \n",
    "[Back to Table of Contents](#section-0) "
   ]
  },
  {
   "cell_type": "markdown",
   "metadata": {},
   "source": [
    "***\n",
    "### <a name=\"section-8\"></a>Tables in Markdown"
   ]
  },
  {
   "cell_type": "markdown",
   "metadata": {},
   "source": [
    "```\n",
    "First Header | Second Header\n",
    "------------ | -------------\n",
    "Content from cell 1 | Content from cell 2\n",
    "Content in the first column | Content in the second column\n",
    "```  "
   ]
  },
  {
   "cell_type": "markdown",
   "metadata": {},
   "source": [
    "First Header | Second Header\n",
    "------------ | -------------\n",
    "Content from cell 1 | Content from cell 2\n",
    "Content in the first column | Content in the second column  \n",
    "  \n",
    "[Back to Table of Contents](#section-0) "
   ]
  },
  {
   "cell_type": "markdown",
   "metadata": {},
   "source": [
    "***\n",
    "## <a name=\"section-9\"></a>Coding"
   ]
  },
  {
   "cell_type": "code",
   "execution_count": 6,
   "metadata": {},
   "outputs": [],
   "source": [
    "%matplotlib inline"
   ]
  },
  {
   "cell_type": "code",
   "execution_count": 5,
   "metadata": {},
   "outputs": [],
   "source": [
    "import matplotlib.pyplot as plt"
   ]
  },
  {
   "cell_type": "code",
   "execution_count": 3,
   "metadata": {},
   "outputs": [
    {
     "name": "stdout",
     "output_type": "stream",
     "text": [
      "Python 3.6.5 :: Anaconda, Inc.\r\n"
     ]
    }
   ],
   "source": [
    "!python --version"
   ]
  },
  {
   "cell_type": "code",
   "execution_count": 4,
   "metadata": {},
   "outputs": [
    {
     "name": "stdout",
     "output_type": "stream",
     "text": [
      "Hello World!\n"
     ]
    }
   ],
   "source": [
    "print(\"Hello World!\")"
   ]
  },
  {
   "cell_type": "markdown",
   "metadata": {},
   "source": [
    "[Back to Table of Contents](#section-0) "
   ]
  }
 ],
 "metadata": {
  "kernelspec": {
   "display_name": "Python 3",
   "language": "python",
   "name": "python3"
  },
  "language_info": {
   "codemirror_mode": {
    "name": "ipython",
    "version": 3
   },
   "file_extension": ".py",
   "mimetype": "text/x-python",
   "name": "python",
   "nbconvert_exporter": "python",
   "pygments_lexer": "ipython3",
   "version": "3.6.5"
  }
 },
 "nbformat": 4,
 "nbformat_minor": 2
}
