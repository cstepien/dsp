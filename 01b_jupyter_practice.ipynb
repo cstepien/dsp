{
 "cells": [
  {
   "cell_type": "markdown",
   "metadata": {},
   "source": [
    "# Practice in Jupyter"
   ]
  },
  {
   "cell_type": "markdown",
   "metadata": {},
   "source": [
    "##  Trying out different Markdown commands "
   ]
  },
  {
   "cell_type": "markdown",
   "metadata": {},
   "source": [
    "We can link to sections within the notebook using the below text.  \n",
    "  \n",
    "```[Section 1](#section-a)```  \n",
    "  \n",
    "[Section 1](#section-a)  \n",
    "\n",
    "External links use the same format, just with the full URL in the parentheses"
   ]
  },
  {
   "cell_type": "markdown",
   "metadata": {},
   "source": [
    "Here, trying out formatting such as **bolding** or _italics_.  \n",
    "I didn't know about the line break (adding two spaces at the end of a line and then hitting return). That's really helpful!  \n",
    "Also, the language specific formatting is really nice (like for python below):  \n",
    "```python\n",
    "import matplotlib\n",
    "```  \n",
    "\n",
    "For non-specific code blocks in gray box, use triple quotes in-line:    \n",
    "\n",
    "```print (\"Hello World!\")```  \n",
    "\n",
    "For indented general code, use triple quotes above and below: \n",
    "```\n",
    "print(\"Hello World!)\n",
    "```\n",
    "\n",
    "***\n",
    "Line separators are pretty sweet too. "
   ]
  },
  {
   "cell_type": "markdown",
   "metadata": {},
   "source": [
    "---\n",
    "Unfortunately, emojis like :watermelon: aren't currently supported in Jupyter =("
   ]
  },
  {
   "cell_type": "markdown",
   "metadata": {},
   "source": [
    "### <a name=\"section-a\"></a>1) Link example"
   ]
  },
  {
   "cell_type": "markdown",
   "metadata": {},
   "source": [
    "generic code:  \n",
    "```\n",
    "$ git status\n",
    "$ git remote -v\n",
    "```"
   ]
  },
  {
   "cell_type": "markdown",
   "metadata": {},
   "source": [
    "bash code: \n",
    "```console\n",
    "$ git status\n",
    "$ git remote -v\n",
    "\n",
    "$ ps awx | grep mongo\n",
    "```"
   ]
  },
  {
   "cell_type": "markdown",
   "metadata": {},
   "source": [
    "Block code that is non-specific:  \n",
    "```\n",
    "SELECT * FROM Customers WHERE Country='Sweden';\n",
    "```"
   ]
  },
  {
   "cell_type": "markdown",
   "metadata": {},
   "source": [
    "Block code that is **sql**-specific:  \n",
    "```sql\n",
    "SELECT * FROM Customers WHERE Country='Sweden';\n",
    "```"
   ]
  },
  {
   "cell_type": "markdown",
   "metadata": {},
   "source": [
    "### Tables in Markdown"
   ]
  },
  {
   "cell_type": "markdown",
   "metadata": {},
   "source": [
    "```\n",
    "First Header | Second Header\n",
    "------------ | -------------\n",
    "Content from cell 1 | Content from cell 2\n",
    "Content in the first column | Content in the second column\n",
    "```\n",
    "\n",
    "First Header | Second Header\n",
    "------------ | -------------\n",
    "Content from cell 1 | Content from cell 2\n",
    "Content in the first column | Content in the second column"
   ]
  },
  {
   "cell_type": "markdown",
   "metadata": {},
   "source": [
    "## Trying out coding cells "
   ]
  },
  {
   "cell_type": "code",
   "execution_count": 6,
   "metadata": {},
   "outputs": [],
   "source": [
    "%matplotlib inline"
   ]
  },
  {
   "cell_type": "code",
   "execution_count": 5,
   "metadata": {},
   "outputs": [],
   "source": [
    "import matplotlib.pyplot as plt"
   ]
  },
  {
   "cell_type": "code",
   "execution_count": 3,
   "metadata": {},
   "outputs": [
    {
     "name": "stdout",
     "output_type": "stream",
     "text": [
      "Python 3.6.5 :: Anaconda, Inc.\r\n"
     ]
    }
   ],
   "source": [
    "!python --version"
   ]
  },
  {
   "cell_type": "code",
   "execution_count": 4,
   "metadata": {},
   "outputs": [
    {
     "name": "stdout",
     "output_type": "stream",
     "text": [
      "Hello World!\n"
     ]
    }
   ],
   "source": [
    "print(\"Hello World!\")"
   ]
  },
  {
   "cell_type": "code",
   "execution_count": null,
   "metadata": {},
   "outputs": [],
   "source": []
  }
 ],
 "metadata": {
  "kernelspec": {
   "display_name": "Python 3",
   "language": "python",
   "name": "python3"
  },
  "language_info": {
   "codemirror_mode": {
    "name": "ipython",
    "version": 3
   },
   "file_extension": ".py",
   "mimetype": "text/x-python",
   "name": "python",
   "nbconvert_exporter": "python",
   "pygments_lexer": "ipython3",
   "version": "3.6.5"
  }
 },
 "nbformat": 4,
 "nbformat_minor": 2
}
